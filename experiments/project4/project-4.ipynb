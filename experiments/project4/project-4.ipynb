{
 "cells": [
  {
   "cell_type": "code",
   "execution_count": 1,
   "id": "2e638716-063a-401d-9ce6-db43a0f07eb1",
   "metadata": {},
   "outputs": [],
   "source": [
    "import os"
   ]
  },
  {
   "cell_type": "code",
   "execution_count": 2,
   "id": "4f7ae310-cfbe-4f57-99a5-dce7a93e5934",
   "metadata": {},
   "outputs": [],
   "source": [
    "import pandas as pd"
   ]
  },
  {
   "cell_type": "code",
   "execution_count": 3,
   "id": "7f784b97-38ee-49ee-b0ab-78e21bc12001",
   "metadata": {},
   "outputs": [],
   "source": [
    "dir_path = \"./\""
   ]
  },
  {
   "cell_type": "code",
   "execution_count": 4,
   "id": "5bab679c-057b-426d-931e-dff6d1a76ed2",
   "metadata": {},
   "outputs": [],
   "source": [
    "df = pd.read_csv(os.path.join(dir_path, \"data.csv\"))"
   ]
  },
  {
   "cell_type": "code",
   "execution_count": 5,
   "id": "a6b54da6-e57b-46de-b8df-7c5a4a5f54bd",
   "metadata": {},
   "outputs": [],
   "source": [
    "grouped_data = df.groupby(['country', 'listed_in']).size().reset_index(name='count')"
   ]
  },
  {
   "cell_type": "code",
   "execution_count": 6,
   "id": "ed20f5f7-9b9b-4430-8de4-75ee33ea0425",
   "metadata": {},
   "outputs": [
    {
     "name": "stdout",
     "output_type": "stream",
     "text": [
      "                country                                          listed_in  \\\n",
      "0     , France, Algeria   Dramas, Independent Movies, International Movies   \n",
      "1         , South Korea                  International TV Shows, TV Dramas   \n",
      "2             Argentina  Action & Adventure, Comedies, International Mo...   \n",
      "3             Argentina  Action & Adventure, Horror Movies, Internation...   \n",
      "4             Argentina         Children & Family Movies, Music & Musicals   \n",
      "...                 ...                                                ...   \n",
      "2639            Vietnam                       Dramas, International Movies   \n",
      "2640            Vietnam      Dramas, International Movies, Romantic Movies   \n",
      "2641            Vietnam     Horror Movies, International Movies, Thrillers   \n",
      "2642       West Germany                Documentaries, International Movies   \n",
      "2643           Zimbabwe    Comedies, International Movies, Romantic Movies   \n",
      "\n",
      "      count  \n",
      "0         1  \n",
      "1         1  \n",
      "2         1  \n",
      "3         1  \n",
      "4         1  \n",
      "...     ...  \n",
      "2639      1  \n",
      "2640      1  \n",
      "2641      1  \n",
      "2642      1  \n",
      "2643      1  \n",
      "\n",
      "[2644 rows x 3 columns]\n"
     ]
    }
   ],
   "source": [
    "print(grouped_data)"
   ]
  }
 ],
 "metadata": {
  "kernelspec": {
   "display_name": "Python 3 (ipykernel)",
   "language": "python",
   "name": "python3"
  },
  "language_info": {
   "codemirror_mode": {
    "name": "ipython",
    "version": 3
   },
   "file_extension": ".py",
   "mimetype": "text/x-python",
   "name": "python",
   "nbconvert_exporter": "python",
   "pygments_lexer": "ipython3",
   "version": "3.12.2"
  }
 },
 "nbformat": 4,
 "nbformat_minor": 5
}
